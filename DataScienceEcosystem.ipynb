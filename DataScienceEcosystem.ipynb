{
 "cells": [
  {
   "cell_type": "markdown",
   "metadata": {},
   "source": [
    "<center>\n",
    "    <img src=\"https://cf-courses-data.s3.us.cloud-object-storage.appdomain.cloud/IBMDeveloperSkillsNetwork-DS0105EN-SkillsNetwork/labs/Module2/images/SN_web_lightmode.png\" width=\"300\" alt=\"cognitiveclass.ai logo\">\n",
    "</center>\n"
   ]
  },
  {
   "cell_type": "markdown",
   "metadata": {},
   "source": [
    "#### Add your code below following the instructions given in the course\n"
   ]
  },
  {
   "cell_type": "markdown",
   "metadata": {},
   "source": [
    "# H1: Data Science Tools and Ecosystem"
   ]
  },
  {
   "cell_type": "markdown",
   "metadata": {},
   "source": [
    "In this notebook, Data Science Tools and Ecosystem are summarized."
   ]
  },
  {
   "cell_type": "markdown",
   "metadata": {},
   "source": [
    "**Objectives:**\n",
    "- Popular languages for Data Science\n",
    "- Commonly used libraries in Data Science\n",
    "- Data science tools"
   ]
  },
  {
   "cell_type": "markdown",
   "metadata": {},
   "source": [
    "Some of the popular languages that Data Scientists use are:\n",
    "1. Python- High level, general\n",
    "2. R-  Statistical computing and graphics\n",
    "3. Scala- Statically typed high-level general-purpose, supports objects\n",
    "4. Julia-  High-level, general-purpose dynamic programming language"
   ]
  },
  {
   "cell_type": "markdown",
   "metadata": {},
   "source": [
    "Some of the commonly used libraries used by Data Scientists include:\n",
    "1. Pandas- Python lib for data structures and tools\n",
    "2. NumPy- Python scientific lib for arrays & matrices \n",
    "3. Matplotlib- Python visualization lib for plots & graphs\n",
    "4. Seaborn- Python visualization lib for plots- heat maps, time series, violin plots\n",
    "5. Scikit-learn - Python lib for machine learning: regression, classification, clustering\n",
    "6. Keras- Python lib for building deep learning neural networks\n",
    "7. TensorFlow- Python deep learning lib for production and deployment\n",
    "8. PyTorch- Python deep learning lib for regression, classification \n",
    "9. Vegas- Scala lib for statistical data visualization\n",
    "10. Big DL- Scala lib for deep learning\n",
    "11. Ggplot2- R lib for data visualization- histograms, bar charts, scatterplots,..\n",
    "12. dplyr R lib for manipulating data, \n",
    "13. stringr R lib for manipulating strings, \n",
    "14. caret- R lib for machine learning. \n",
    "15. Plotly- R lib for web-based data visualizations, can be displayed/saved as individual HTML files\n",
    "16. Lattice- R lib used to implement complex, multi-variable data sets. It is a high-level data visualization library that can handle graphics without customizations\n",
    "17. Leaflet- R lib for creating interactive plots\n"
   ]
  },
  {
   "cell_type": "markdown",
   "metadata": {},
   "source": [
    "| Data Science Tools |\n",
    ":-------------------:\n",
    "| Jupiter Notebooks |\n",
    "| R Studio |\n",
    "| Zeppelin Notebooks |"
   ]
  },
  {
   "cell_type": "markdown",
   "metadata": {},
   "source": [
    "### H3:Below are a few examples of evaluating arithmetic expressions in Python"
   ]
  },
  {
   "cell_type": "code",
   "execution_count": 1,
   "metadata": {
    "tags": []
   },
   "outputs": [
    {
     "data": {
      "text/plain": [
       "17"
      ]
     },
     "execution_count": 1,
     "metadata": {},
     "output_type": "execute_result"
    }
   ],
   "source": [
    "# This a simple arithmetic expression to mutiply then add integers\n",
    "(3*4)+5"
   ]
  },
  {
   "cell_type": "code",
   "execution_count": 2,
   "metadata": {
    "tags": []
   },
   "outputs": [
    {
     "data": {
      "text/plain": [
       "3.3333333333333335"
      ]
     },
     "execution_count": 2,
     "metadata": {},
     "output_type": "execute_result"
    }
   ],
   "source": [
    "# This will convert 200 minutes to hours by diving by 60\n",
    "200/60"
   ]
  },
  {
   "cell_type": "markdown",
   "metadata": {},
   "source": [
    "# H2: Author\n",
    "Radu Mircea Luta"
   ]
  },
  {
   "cell_type": "code",
   "execution_count": null,
   "metadata": {},
   "outputs": [],
   "source": []
  }
 ],
 "metadata": {
  "kernelspec": {
   "display_name": "Python",
   "language": "python",
   "name": "conda-env-python-py"
  },
  "language_info": {
   "codemirror_mode": {
    "name": "ipython",
    "version": 3
   },
   "file_extension": ".py",
   "mimetype": "text/x-python",
   "name": "python",
   "nbconvert_exporter": "python",
   "pygments_lexer": "ipython3",
   "version": "3.7.12"
  }
 },
 "nbformat": 4,
 "nbformat_minor": 4
}
